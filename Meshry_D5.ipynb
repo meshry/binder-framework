{
 "cells": [
  {
   "cell_type": "code",
   "execution_count": 2,
   "id": "10a54ef1",
   "metadata": {},
   "outputs": [],
   "source": [
    "%matplotlib inline\n",
    "import pandas as pd\n",
    "import matplotlib.pyplot as plt\n",
    "import numpy as np"
   ]
  },
  {
   "cell_type": "code",
   "execution_count": 7,
   "id": "ae1f6d2b",
   "metadata": {},
   "outputs": [
    {
     "data": {
      "text/html": [
       "<div>\n",
       "<style scoped>\n",
       "    .dataframe tbody tr th:only-of-type {\n",
       "        vertical-align: middle;\n",
       "    }\n",
       "\n",
       "    .dataframe tbody tr th {\n",
       "        vertical-align: top;\n",
       "    }\n",
       "\n",
       "    .dataframe thead th {\n",
       "        text-align: right;\n",
       "    }\n",
       "</style>\n",
       "<table border=\"1\" class=\"dataframe\">\n",
       "  <thead>\n",
       "    <tr style=\"text-align: right;\">\n",
       "      <th></th>\n",
       "      <th>NTA</th>\n",
       "      <th>Date</th>\n",
       "      <th>NTA_count</th>\n",
       "      <th>Jobs</th>\n",
       "      <th>Savings</th>\n",
       "      <th>SumJobs</th>\n",
       "      <th>MeanSavings</th>\n",
       "      <th>Month</th>\n",
       "    </tr>\n",
       "  </thead>\n",
       "  <tbody>\n",
       "    <tr>\n",
       "      <th>0</th>\n",
       "      <td>SoHo-TriBeCa-Civic Center-Little Italy</td>\n",
       "      <td>2008-04-02</td>\n",
       "      <td>5.0</td>\n",
       "      <td>NaN</td>\n",
       "      <td>4423698.05</td>\n",
       "      <td>0.0</td>\n",
       "      <td>9.908676e+05</td>\n",
       "      <td>4</td>\n",
       "    </tr>\n",
       "    <tr>\n",
       "      <th>1</th>\n",
       "      <td>Battery Park City-Lower Manhattan</td>\n",
       "      <td>2015-01-05</td>\n",
       "      <td>9.0</td>\n",
       "      <td>NaN</td>\n",
       "      <td>1814542.62</td>\n",
       "      <td>0.0</td>\n",
       "      <td>3.798151e+06</td>\n",
       "      <td>1</td>\n",
       "    </tr>\n",
       "    <tr>\n",
       "      <th>2</th>\n",
       "      <td>Sunset Park West</td>\n",
       "      <td>2020-02-03</td>\n",
       "      <td>48.0</td>\n",
       "      <td>NaN</td>\n",
       "      <td>6755.31</td>\n",
       "      <td>0.0</td>\n",
       "      <td>1.392565e+05</td>\n",
       "      <td>2</td>\n",
       "    </tr>\n",
       "    <tr>\n",
       "      <th>3</th>\n",
       "      <td>Battery Park City-Lower Manhattan</td>\n",
       "      <td>2017-06-30</td>\n",
       "      <td>9.0</td>\n",
       "      <td>NaN</td>\n",
       "      <td>3293055.08</td>\n",
       "      <td>0.0</td>\n",
       "      <td>3.798151e+06</td>\n",
       "      <td>6</td>\n",
       "    </tr>\n",
       "    <tr>\n",
       "      <th>4</th>\n",
       "      <td>Battery Park City-Lower Manhattan</td>\n",
       "      <td>2015-07-02</td>\n",
       "      <td>9.0</td>\n",
       "      <td>NaN</td>\n",
       "      <td>2090906.36</td>\n",
       "      <td>0.0</td>\n",
       "      <td>3.798151e+06</td>\n",
       "      <td>7</td>\n",
       "    </tr>\n",
       "  </tbody>\n",
       "</table>\n",
       "</div>"
      ],
      "text/plain": [
       "                                      NTA       Date  NTA_count  Jobs  \\\n",
       "0  SoHo-TriBeCa-Civic Center-Little Italy 2008-04-02        5.0   NaN   \n",
       "1       Battery Park City-Lower Manhattan 2015-01-05        9.0   NaN   \n",
       "2                        Sunset Park West 2020-02-03       48.0   NaN   \n",
       "3       Battery Park City-Lower Manhattan 2017-06-30        9.0   NaN   \n",
       "4       Battery Park City-Lower Manhattan 2015-07-02        9.0   NaN   \n",
       "\n",
       "      Savings  SumJobs   MeanSavings  Month  \n",
       "0  4423698.05      0.0  9.908676e+05      4  \n",
       "1  1814542.62      0.0  3.798151e+06      1  \n",
       "2     6755.31      0.0  1.392565e+05      2  \n",
       "3  3293055.08      0.0  3.798151e+06      6  \n",
       "4  2090906.36      0.0  3.798151e+06      7  "
      ]
     },
     "execution_count": 7,
     "metadata": {},
     "output_type": "execute_result"
    }
   ],
   "source": [
    "nta5 = pd.read_csv(\"nta.csv\")\n",
    "\n",
    "nta5.head()"
   ]
  },
  {
   "cell_type": "markdown",
   "id": "861d4d9f",
   "metadata": {},
   "source": [
    "### scatter plot of jobs created versus average savings."
   ]
  },
  {
   "cell_type": "code",
   "execution_count": 19,
   "id": "1b221281",
   "metadata": {},
   "outputs": [
    {
     "data": {
      "text/plain": [
       "Text(0, 0.5, 'Average Saving')"
      ]
     },
     "execution_count": 19,
     "metadata": {},
     "output_type": "execute_result"
    },
    {
     "data": {
      "image/png": "[encoded data removed]",
      "text/plain": [
       "<Figure size 432x288 with 1 Axes>"
      ]
     },
     "metadata": {
      "needs_background": "light"
     },
     "output_type": "display_data"
    }
   ],
   "source": [
    "plt.scatter(nta5.Jobs, nta5.MeanSavings)\n",
    "plt.xlabel('Jobs Created')\n",
    "plt.ylabel('Average Saving')"
   ]
  },
  {
   "cell_type": "code",
   "execution_count": 20,
   "id": "b32e6ff6",
   "metadata": {},
   "outputs": [
    {
     "data": {
      "image/png": "[encoded data removed]",
      "text/plain": [
       "<Figure size 432x288 with 1 Axes>"
      ]
     },
     "metadata": {
      "needs_background": "light"
     },
     "output_type": "display_data"
    }
   ],
   "source": [
    "plt.scatter(nta5.Jobs, nta5.MeanSavings)\n",
    "plt.xlabel('Jobs Created')\n",
    "plt.ylabel('Average Saving')\n",
    "plt.yscale('log')\n"
   ]
  },
  {
   "cell_type": "markdown",
   "id": "ede5454e",
   "metadata": {},
   "source": [
    "### histogram of the log of the average total savings."
   ]
  },
  {
   "cell_type": "code",
   "execution_count": 21,
   "id": "b0969797",
   "metadata": {},
   "outputs": [
    {
     "data": {
      "image/png": "[encoded data removed]",
      "text/plain": [
       "<Figure size 432x288 with 1 Axes>"
      ]
     },
     "metadata": {
      "needs_background": "light"
     },
     "output_type": "display_data"
    }
   ],
   "source": [
    "plt.hist(nta5.MeanSavings)\n",
    "plt.xscale('log')"
   ]
  },
  {
   "cell_type": "markdown",
   "id": "380245a0",
   "metadata": {},
   "source": [
    "### line plot of the total jobs created for each month."
   ]
  },
  {
   "cell_type": "code",
   "execution_count": 12,
   "id": "72f60f5b",
   "metadata": {},
   "outputs": [
    {
     "data": {
      "text/html": [
       "<div>\n",
       "<style scoped>\n",
       "    .dataframe tbody tr th:only-of-type {\n",
       "        vertical-align: middle;\n",
       "    }\n",
       "\n",
       "    .dataframe tbody tr th {\n",
       "        vertical-align: top;\n",
       "    }\n",
       "\n",
       "    .dataframe thead th {\n",
       "        text-align: right;\n",
       "    }\n",
       "</style>\n",
       "<table border=\"1\" class=\"dataframe\">\n",
       "  <thead>\n",
       "    <tr style=\"text-align: right;\">\n",
       "      <th></th>\n",
       "      <th>Date</th>\n",
       "      <th>Jobs</th>\n",
       "      <th>Month</th>\n",
       "    </tr>\n",
       "  </thead>\n",
       "  <tbody>\n",
       "    <tr>\n",
       "      <th>0</th>\n",
       "      <td>2005-03-04</td>\n",
       "      <td>NaN</td>\n",
       "      <td>3</td>\n",
       "    </tr>\n",
       "    <tr>\n",
       "      <th>1</th>\n",
       "      <td>2008-04-02</td>\n",
       "      <td>NaN</td>\n",
       "      <td>4</td>\n",
       "    </tr>\n",
       "    <tr>\n",
       "      <th>2</th>\n",
       "      <td>2015-01-05</td>\n",
       "      <td>NaN</td>\n",
       "      <td>1</td>\n",
       "    </tr>\n",
       "    <tr>\n",
       "      <th>3</th>\n",
       "      <td>2020-02-03</td>\n",
       "      <td>NaN</td>\n",
       "      <td>2</td>\n",
       "    </tr>\n",
       "    <tr>\n",
       "      <th>4</th>\n",
       "      <td>2017-06-30</td>\n",
       "      <td>NaN</td>\n",
       "      <td>6</td>\n",
       "    </tr>\n",
       "  </tbody>\n",
       "</table>\n",
       "</div>"
      ],
      "text/plain": [
       "        Date  Jobs  Month\n",
       "0 2005-03-04   NaN      3\n",
       "1 2008-04-02   NaN      4\n",
       "2 2015-01-05   NaN      1\n",
       "3 2020-02-03   NaN      2\n",
       "4 2017-06-30   NaN      6"
      ]
     },
     "execution_count": 12,
     "metadata": {},
     "output_type": "execute_result"
    }
   ],
   "source": [
    "ve = pd.read_csv(\"Value_of_Energy_Cost_Savings_Program_Savings_for_Businesses_-_FY2020.csv\")\n",
    "ve = ve[[\"Effective Date\" , \"Job created\"]]\n",
    "ve.rename(columns = {\"Effective Date\":\"Date\"  , \"Job created\":\"Jobs\"}, inplace = True)\n",
    "ve[\"Date\"] = pd.to_datetime(ve.Date)\n",
    "ve[\"Month\"]= ve.Date.dt.month\n",
    "ve.head()"
   ]
  },
  {
   "cell_type": "code",
   "execution_count": 19,
   "id": "ef0d97f9",
   "metadata": {},
   "outputs": [
    {
     "name": "stdout",
     "output_type": "stream",
     "text": [
      "<class 'pandas.core.frame.DataFrame'>\n",
      "RangeIndex: 450 entries, 0 to 449\n",
      "Data columns (total 4 columns):\n",
      " #   Column   Non-Null Count  Dtype         \n",
      "---  ------   --------------  -----         \n",
      " 0   Date     450 non-null    datetime64[ns]\n",
      " 1   Jobs     11 non-null     float64       \n",
      " 2   Month    450 non-null    int64         \n",
      " 3   SumJobs  450 non-null    float64       \n",
      "dtypes: datetime64[ns](1), float64(2), int64(1)\n",
      "memory usage: 14.2 KB\n"
     ]
    }
   ],
   "source": [
    "ve[\"SumJobs\"] = ve.groupby('Month').Jobs.transform('sum')\n",
    "ve.info()"
   ]
  },
  {
   "cell_type": "code",
   "execution_count": 21,
   "id": "8a15e5bb",
   "metadata": {},
   "outputs": [
    {
     "data": {
      "text/plain": [
       "Text(0, 0.5, 'Month')"
      ]
     },
     "execution_count": 21,
     "metadata": {},
     "output_type": "execute_result"
    },
    {
     "data": {
      "image/png": "[encoded data removed]",
      "text/plain": [
       "<Figure size 432x288 with 1 Axes>"
      ]
     },
     "metadata": {
      "needs_background": "light"
     },
     "output_type": "display_data"
    }
   ],
   "source": [
    "plt.plot(ve.groupby('Month').Jobs.sum())\n",
    "plt.ylabel('Total Jobs Created')\n",
    "plt.ylabel('Month')\n"
   ]
  },
  {
   "cell_type": "code",
   "execution_count": null,
   "id": "0162f8c4",
   "metadata": {},
   "outputs": [],
   "source": []
  }
 ],
 "metadata": {
  "kernelspec": {
   "display_name": "Python 3 (ipykernel)",
   "language": "python",
   "name": "python3"
  },
  "language_info": {
   "codemirror_mode": {
    "name": "ipython",
    "version": 3
   },
   "file_extension": ".py",
   "mimetype": "text/x-python",
   "name": "python",
   "nbconvert_exporter": "python",
   "pygments_lexer": "ipython3",
   "version": "3.9.7"
  }
 },
 "nbformat": 4,
 "nbformat_minor": 5
}
